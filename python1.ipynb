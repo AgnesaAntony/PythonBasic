{
 "cells": [
  {
   "cell_type": "markdown",
   "id": "c9cab6ab-b428-4c3b-90dc-cefa04fc8be8",
   "metadata": {},
   "source": [
    "# DATA SCIENCE"
   ]
  },
  {
   "cell_type": "markdown",
   "id": "38a29995-c94b-42d2-8bd2-00d593abb0e5",
   "metadata": {},
   "source": [
    "       DATA SCIENCE is about turning raw data into meaningful information that can be used for decision-making, predictions, and solving complex problems."
   ]
  },
  {
   "cell_type": "markdown",
   "id": "05f1abcb-1887-46bd-8003-a9d59127775c",
   "metadata": {},
   "source": [
    "   1. Data collection\n",
    "   2. Data preparation\n",
    "   3. Data exploration and visualization\n",
    "   4. Statical Analysis\n",
    "   5. Machine language\n",
    "   6. Presentation"
   ]
  },
  {
   "cell_type": "markdown",
   "id": "ef962e09-9fe3-43af-af01-93a0adc88dec",
   "metadata": {},
   "source": [
    "# Jupyter sortcut"
   ]
  },
  {
   "cell_type": "markdown",
   "id": "8a77d26f-d5b3-4c2f-86b0-244f465fc9f0",
   "metadata": {},
   "source": [
    "1. a-cell added above\n",
    "2. b-cell added below\n",
    "3. m-markdown\n",
    "4. y-code\n",
    "5. dd-delete the cell\n",
    "6. shift+enter- run the code"
   ]
  },
  {
   "cell_type": "markdown",
   "id": "e94f3948-1a21-4997-bb28-3f759cb7b12d",
   "metadata": {},
   "source": [
    "# Variables"
   ]
  },
  {
   "cell_type": "markdown",
   "id": "b5071cb1-1c48-4064-9e9a-a9d43e2cd388",
   "metadata": {},
   "source": [
    "      Variables is nothing but the storage element."
   ]
  },
  {
   "cell_type": "markdown",
   "id": "1df275a1-b7ac-46d4-ac17-a8d0a273861f",
   "metadata": {},
   "source": [
    "# **DATA SCIENCE**"
   ]
  },
  {
   "cell_type": "code",
   "execution_count": 1,
   "id": "ef8b255b-9a4f-4d40-bc5a-7330ac3a336d",
   "metadata": {},
   "outputs": [
    {
     "name": "stdout",
     "output_type": "stream",
     "text": [
      "10\n",
      "hello Python\n",
      "99.67\n"
     ]
    }
   ],
   "source": [
    "my_variable=10 # integer\n",
    "my_variable1=\"hello Python\" # string\n",
    "my_variable2=99.67 # float\n",
    "print(my_variable)\n",
    "print(my_variable1)\n",
    "print(my_variable2)"
   ]
  },
  {
   "cell_type": "code",
   "execution_count": 2,
   "id": "5a701226-ec2f-4934-8dfa-b7246f4fc4c9",
   "metadata": {},
   "outputs": [
    {
     "data": {
      "text/plain": [
       "\u001b[1;31mSignature:\u001b[0m \u001b[0mprint\u001b[0m\u001b[1;33m(\u001b[0m\u001b[1;33m*\u001b[0m\u001b[0margs\u001b[0m\u001b[1;33m,\u001b[0m \u001b[0msep\u001b[0m\u001b[1;33m=\u001b[0m\u001b[1;34m' '\u001b[0m\u001b[1;33m,\u001b[0m \u001b[0mend\u001b[0m\u001b[1;33m=\u001b[0m\u001b[1;34m'\\n'\u001b[0m\u001b[1;33m,\u001b[0m \u001b[0mfile\u001b[0m\u001b[1;33m=\u001b[0m\u001b[1;32mNone\u001b[0m\u001b[1;33m,\u001b[0m \u001b[0mflush\u001b[0m\u001b[1;33m=\u001b[0m\u001b[1;32mFalse\u001b[0m\u001b[1;33m)\u001b[0m\u001b[1;33m\u001b[0m\u001b[1;33m\u001b[0m\u001b[0m\n",
       "\u001b[1;31mDocstring:\u001b[0m\n",
       "Prints the values to a stream, or to sys.stdout by default.\n",
       "\n",
       "sep\n",
       "  string inserted between values, default a space.\n",
       "end\n",
       "  string appended after the last value, default a newline.\n",
       "file\n",
       "  a file-like object (stream); defaults to the current sys.stdout.\n",
       "flush\n",
       "  whether to forcibly flush the stream.\n",
       "\u001b[1;31mType:\u001b[0m      builtin_function_or_method"
      ]
     },
     "metadata": {},
     "output_type": "display_data"
    }
   ],
   "source": [
    "print??"
   ]
  },
  {
   "cell_type": "markdown",
   "id": "9bbb7f91-188e-49ea-b3fe-2e5cdfd964ce",
   "metadata": {},
   "source": [
    "# CRUD formula"
   ]
  },
  {
   "cell_type": "markdown",
   "id": "b8a3732a-3601-4c97-8b66-f03edc0b39fa",
   "metadata": {},
   "source": [
    "1. Create\n",
    "2. Read\n",
    "3. Update\n",
    "4. Delete"
   ]
  },
  {
   "cell_type": "markdown",
   "id": "6586388f-1a25-4f7e-829c-547d82f67196",
   "metadata": {},
   "source": [
    "# 1. Data type"
   ]
  },
  {
   "cell_type": "code",
   "execution_count": 3,
   "id": "9a82e87e-8560-4777-8351-049b28cdfa49",
   "metadata": {},
   "outputs": [
    {
     "data": {
      "text/plain": [
       "int"
      ]
     },
     "execution_count": 3,
     "metadata": {},
     "output_type": "execute_result"
    }
   ],
   "source": [
    "a=10\n",
    "type(a)"
   ]
  },
  {
   "cell_type": "code",
   "execution_count": 4,
   "id": "482422a2-848e-46e6-845e-ec076192df71",
   "metadata": {},
   "outputs": [
    {
     "data": {
      "text/plain": [
       "str"
      ]
     },
     "execution_count": 4,
     "metadata": {},
     "output_type": "execute_result"
    }
   ],
   "source": [
    "b=\"welcome\"\n",
    "type(b)"
   ]
  },
  {
   "cell_type": "code",
   "execution_count": 5,
   "id": "a58799d0-1762-4e9c-8eef-6d0b85b73086",
   "metadata": {},
   "outputs": [
    {
     "data": {
      "text/plain": [
       "float"
      ]
     },
     "execution_count": 5,
     "metadata": {},
     "output_type": "execute_result"
    }
   ],
   "source": [
    "c=3.14\n",
    "type(c)"
   ]
  },
  {
   "cell_type": "code",
   "execution_count": 6,
   "id": "bee8249c-ef65-4e18-b45d-58c3cacfb59b",
   "metadata": {},
   "outputs": [
    {
     "data": {
      "text/plain": [
       "bool"
      ]
     },
     "execution_count": 6,
     "metadata": {},
     "output_type": "execute_result"
    }
   ],
   "source": [
    "d= True\n",
    "type(d)"
   ]
  },
  {
   "cell_type": "code",
   "execution_count": 7,
   "id": "e5bc8010-c20d-4708-99b4-8c75053f1276",
   "metadata": {},
   "outputs": [
    {
     "name": "stdin",
     "output_type": "stream",
     "text": [
      "enter your name:  agnesa\n"
     ]
    },
    {
     "name": "stdout",
     "output_type": "stream",
     "text": [
      "My name is agnesa!\n"
     ]
    }
   ],
   "source": [
    "my_name=input(\"enter your name: \")\n",
    "print(\"My name is \"+ my_name+\"!\")"
   ]
  },
  {
   "cell_type": "markdown",
   "id": "57907e43-7337-4e9a-86af-d1060e71272a",
   "metadata": {},
   "source": [
    "# CRUD formula\n",
    "1. create\n",
    "2. read\n",
    "3. update\n",
    "4. delete"
   ]
  },
  {
   "cell_type": "markdown",
   "id": "1522f936-05c5-4e8c-bed4-9e111895f40c",
   "metadata": {},
   "source": [
    "# 2.List\n",
    "     list is the collection of different data types."
   ]
  },
  {
   "cell_type": "code",
   "execution_count": 8,
   "id": "1465055f-000f-4786-b1fc-06cc85c43ed8",
   "metadata": {},
   "outputs": [
    {
     "data": {
      "text/plain": [
       "list"
      ]
     },
     "execution_count": 8,
     "metadata": {},
     "output_type": "execute_result"
    }
   ],
   "source": [
    "my_list=[\"agnesa\",20,\"C.S.E-A\",8.25]\n",
    "type(my_list)"
   ]
  },
  {
   "cell_type": "code",
   "execution_count": 9,
   "id": "c6789515-c31c-4491-83a5-44a2526bd5dc",
   "metadata": {},
   "outputs": [
    {
     "data": {
      "text/plain": [
       "['agnesa', 20, 'C.S.E-A', 8.25]"
      ]
     },
     "execution_count": 9,
     "metadata": {},
     "output_type": "execute_result"
    }
   ],
   "source": [
    "my_list"
   ]
  },
  {
   "cell_type": "code",
   "execution_count": 10,
   "id": "bc9d5646-a45e-4fb2-949e-00416797263c",
   "metadata": {},
   "outputs": [
    {
     "data": {
      "text/plain": [
       "8.25"
      ]
     },
     "execution_count": 10,
     "metadata": {},
     "output_type": "execute_result"
    }
   ],
   "source": [
    "my_list[3]"
   ]
  },
  {
   "cell_type": "code",
   "execution_count": 11,
   "id": "2b4b2ffc-b758-45f7-85ed-3458a498f603",
   "metadata": {},
   "outputs": [],
   "source": [
    "my_list[2]=\"CSE-A\""
   ]
  },
  {
   "cell_type": "code",
   "execution_count": 12,
   "id": "f7adfc93-892e-4205-93d1-4c3770c3daf2",
   "metadata": {},
   "outputs": [
    {
     "data": {
      "text/plain": [
       "['agnesa', 20, 'CSE-A', 8.25]"
      ]
     },
     "execution_count": 12,
     "metadata": {},
     "output_type": "execute_result"
    }
   ],
   "source": [
    "my_list"
   ]
  },
  {
   "cell_type": "markdown",
   "id": "e85988e8-6da9-41a8-9d60-fb4f262cdb82",
   "metadata": {},
   "source": [
    "# 3.Tuple\n",
    "  Tuple is the collection of different data types which cannot be changed ,that is immutable."
   ]
  },
  {
   "cell_type": "code",
   "execution_count": 13,
   "id": "95dfe805-7a7f-475e-933e-e804c5150a14",
   "metadata": {},
   "outputs": [
    {
     "data": {
      "text/plain": [
       "tuple"
      ]
     },
     "execution_count": 13,
     "metadata": {},
     "output_type": "execute_result"
    }
   ],
   "source": [
    "my_tuple =(\"name\",20,\"class\",8.23)\n",
    "type(my_tuple)"
   ]
  },
  {
   "cell_type": "code",
   "execution_count": 14,
   "id": "204e1f90-f53b-4546-8942-beae38254415",
   "metadata": {},
   "outputs": [
    {
     "data": {
      "text/plain": [
       "('name', 20, 'class', 8.23)"
      ]
     },
     "execution_count": 14,
     "metadata": {},
     "output_type": "execute_result"
    }
   ],
   "source": [
    "my_tuple"
   ]
  },
  {
   "cell_type": "code",
   "execution_count": 15,
   "id": "ea54f120-333a-4eee-992e-a4d9612814d6",
   "metadata": {},
   "outputs": [
    {
     "data": {
      "text/plain": [
       "'class'"
      ]
     },
     "execution_count": 15,
     "metadata": {},
     "output_type": "execute_result"
    }
   ],
   "source": [
    "my_tuple[2]"
   ]
  },
  {
   "cell_type": "code",
   "execution_count": 16,
   "id": "41ef6b30-41cf-4a42-bd46-72b914e9e823",
   "metadata": {},
   "outputs": [],
   "source": [
    "# [2]=\"assign\" # immutable\""
   ]
  },
  {
   "cell_type": "markdown",
   "id": "8adda628-9a2c-40bb-96d9-eda3ceadadae",
   "metadata": {},
   "source": [
    "Converting Tuple into List"
   ]
  },
  {
   "cell_type": "code",
   "execution_count": 17,
   "id": "5e6d475d-6501-44ec-ace0-86b4b7dc91aa",
   "metadata": {},
   "outputs": [],
   "source": [
    "my_tuple1=list(my_tuple) "
   ]
  },
  {
   "cell_type": "code",
   "execution_count": 18,
   "id": "62bc6188-2332-44d5-8a86-223f22c2bdcd",
   "metadata": {},
   "outputs": [
    {
     "data": {
      "text/plain": [
       "['name', 20, 'class', 8.23]"
      ]
     },
     "execution_count": 18,
     "metadata": {},
     "output_type": "execute_result"
    }
   ],
   "source": [
    "my_tuple1"
   ]
  },
  {
   "cell_type": "markdown",
   "id": "918f0636-2c41-46fb-aa59-06c400a388d8",
   "metadata": {},
   "source": [
    "# Set"
   ]
  },
  {
   "cell_type": "markdown",
   "id": "6ad3ca0c-8468-4fe8-b12d-0deed050716b",
   "metadata": {},
   "source": [
    "     Set is a different data type which contain collection of data type in which no duplicate data are found.It is immutable."
   ]
  },
  {
   "cell_type": "code",
   "execution_count": 19,
   "id": "1342da9a-dd21-4fb6-ba01-aeb6091c3395",
   "metadata": {},
   "outputs": [
    {
     "data": {
      "text/plain": [
       "set"
      ]
     },
     "execution_count": 19,
     "metadata": {},
     "output_type": "execute_result"
    }
   ],
   "source": [
    "my_set={1,2,3,\"name\"}\n",
    "type(my_set)"
   ]
  },
  {
   "cell_type": "code",
   "execution_count": 20,
   "id": "9be4d3ff-ea0f-4118-a175-4328c6e37b30",
   "metadata": {},
   "outputs": [
    {
     "data": {
      "text/plain": [
       "{1, 2, 3, 'name'}"
      ]
     },
     "execution_count": 20,
     "metadata": {},
     "output_type": "execute_result"
    }
   ],
   "source": [
    "my_set"
   ]
  },
  {
   "cell_type": "code",
   "execution_count": 21,
   "id": "e03c37b6-b74a-4e7e-814b-052aa093e34e",
   "metadata": {},
   "outputs": [
    {
     "data": {
      "text/plain": [
       "set"
      ]
     },
     "execution_count": 21,
     "metadata": {},
     "output_type": "execute_result"
    }
   ],
   "source": [
    "type(my_set)"
   ]
  },
  {
   "cell_type": "markdown",
   "id": "ac32ddd0-a0d1-44ce-92e9-18592885a2d8",
   "metadata": {},
   "source": [
    "# TYPECASTING"
   ]
  },
  {
   "cell_type": "markdown",
   "id": "9f733251-7f2e-4ca2-a9e8-b6aa7a3f2f4e",
   "metadata": {},
   "source": [
    "     Lets create a list and converted into set and then to list to remove a duplicate."
   ]
  },
  {
   "cell_type": "code",
   "execution_count": 22,
   "id": "9620faee-a9fd-4f74-97e6-376a9df56f6b",
   "metadata": {},
   "outputs": [],
   "source": [
    "create_list=[1,2,3,\"appa\",\"amma\",4,3,2,1,3.567]"
   ]
  },
  {
   "cell_type": "code",
   "execution_count": 23,
   "id": "f7edf494-c171-413c-9f1f-967449203928",
   "metadata": {},
   "outputs": [
    {
     "data": {
      "text/plain": [
       "[1, 2, 3, 4, 3.567, 'amma', 'appa']"
      ]
     },
     "execution_count": 23,
     "metadata": {},
     "output_type": "execute_result"
    }
   ],
   "source": [
    "list(set(create_list))"
   ]
  },
  {
   "cell_type": "markdown",
   "id": "aaa42a73-dd3c-497c-8589-587c0d043eeb",
   "metadata": {},
   "source": [
    "# DICTIONARY"
   ]
  },
  {
   "cell_type": "markdown",
   "id": "00141d18-4dc7-4beb-b028-5446daeccc11",
   "metadata": {},
   "source": [
    "    It's a collection of different data type ,which is in the form of key ,value pair."
   ]
  },
  {
   "cell_type": "code",
   "execution_count": 24,
   "id": "15475965-4edf-429e-b8fd-e0c589dcf66d",
   "metadata": {},
   "outputs": [
    {
     "data": {
      "text/plain": [
       "{'name': 'Agnesa', 'Age': 20, 'Qualification': 'CSE-A'}"
      ]
     },
     "execution_count": 24,
     "metadata": {},
     "output_type": "execute_result"
    }
   ],
   "source": [
    "my_dict={\"name\":\"Agnesa\",\"Age\":20,\"Qualification\":\"CSE-A\"}\n",
    "my_dict"
   ]
  },
  {
   "cell_type": "code",
   "execution_count": 25,
   "id": "f40be465-0065-430c-9d39-a501b177931e",
   "metadata": {},
   "outputs": [
    {
     "data": {
      "text/plain": [
       "dict"
      ]
     },
     "execution_count": 25,
     "metadata": {},
     "output_type": "execute_result"
    }
   ],
   "source": [
    "type(my_dict)"
   ]
  },
  {
   "cell_type": "code",
   "execution_count": 26,
   "id": "8e9295c2-7365-42f4-83b7-01328f51ed7c",
   "metadata": {},
   "outputs": [
    {
     "data": {
      "text/plain": [
       "'Agnesa'"
      ]
     },
     "execution_count": 26,
     "metadata": {},
     "output_type": "execute_result"
    }
   ],
   "source": [
    "my_dict[\"name\"]"
   ]
  },
  {
   "cell_type": "markdown",
   "id": "53331cff-fd01-4659-84bf-72e15577b547",
   "metadata": {},
   "source": [
    "# list\n"
   ]
  },
  {
   "cell_type": "code",
   "execution_count": 27,
   "id": "d5ba459f-09e7-41a6-95f9-52e45a66e988",
   "metadata": {},
   "outputs": [
    {
     "data": {
      "text/plain": [
       "['metro', 'superfast', 'local', 'bullettrain']"
      ]
     },
     "execution_count": 27,
     "metadata": {},
     "output_type": "execute_result"
    }
   ],
   "source": [
    "#create\n",
    "train_names=[\"metro\",\"superfast\",\"local\",\"bullettrain\"]\n",
    "train_names"
   ]
  },
  {
   "cell_type": "code",
   "execution_count": 28,
   "id": "3f25e69d-0489-41fb-810a-d43a60de17e5",
   "metadata": {},
   "outputs": [
    {
     "data": {
      "text/plain": [
       "['metro', 'superfast', 'local', 'bullettrain']"
      ]
     },
     "execution_count": 28,
     "metadata": {},
     "output_type": "execute_result"
    }
   ],
   "source": [
    "#read\n",
    "train_names"
   ]
  },
  {
   "cell_type": "code",
   "execution_count": 29,
   "id": "096caf8c-1c5f-4887-af4e-e13d2ddd92c8",
   "metadata": {},
   "outputs": [
    {
     "data": {
      "text/plain": [
       "'local'"
      ]
     },
     "execution_count": 29,
     "metadata": {},
     "output_type": "execute_result"
    }
   ],
   "source": [
    "train_names[2] #reading through indexing"
   ]
  },
  {
   "cell_type": "code",
   "execution_count": 30,
   "id": "0a5633b5-b6e6-4ce6-9606-b2a55fc297a0",
   "metadata": {},
   "outputs": [
    {
     "data": {
      "text/plain": [
       "'bullettrain'"
      ]
     },
     "execution_count": 30,
     "metadata": {},
     "output_type": "execute_result"
    }
   ],
   "source": [
    "train_names[-1]"
   ]
  },
  {
   "cell_type": "code",
   "execution_count": 31,
   "id": "4e5b0e5d-4bb6-470a-958d-c24da0afe1f5",
   "metadata": {},
   "outputs": [
    {
     "data": {
      "text/plain": [
       "4"
      ]
     },
     "execution_count": 31,
     "metadata": {},
     "output_type": "execute_result"
    }
   ],
   "source": [
    "len(train_names)"
   ]
  },
  {
   "cell_type": "code",
   "execution_count": 32,
   "id": "67adab27-da94-4c1e-babb-828831821398",
   "metadata": {},
   "outputs": [
    {
     "data": {
      "text/plain": [
       "['unreserved', 'superfast', 'local', 'bullettrain']"
      ]
     },
     "execution_count": 32,
     "metadata": {},
     "output_type": "execute_result"
    }
   ],
   "source": [
    "#update\n",
    "train_names[0]=\"unreserved\"\n",
    "train_names"
   ]
  },
  {
   "cell_type": "code",
   "execution_count": 33,
   "id": "582b17a9-c09b-4786-879e-6ee42fa04b33",
   "metadata": {},
   "outputs": [
    {
     "data": {
      "text/plain": [
       "['unreserved', 'superfast', 'local', 'bullettrain', 'express']"
      ]
     },
     "execution_count": 33,
     "metadata": {},
     "output_type": "execute_result"
    }
   ],
   "source": [
    "train_names.append('express')\n",
    "train_names"
   ]
  },
  {
   "cell_type": "code",
   "execution_count": 34,
   "id": "3ed0a26b-25c6-4e64-af53-5b452cda7f36",
   "metadata": {},
   "outputs": [
    {
     "data": {
      "text/plain": [
       "5"
      ]
     },
     "execution_count": 34,
     "metadata": {},
     "output_type": "execute_result"
    }
   ],
   "source": [
    "len(train_names)"
   ]
  },
  {
   "cell_type": "code",
   "execution_count": 35,
   "id": "8abd03ab-6f7d-4faf-84d5-3e94751e0d5e",
   "metadata": {},
   "outputs": [
    {
     "data": {
      "text/plain": [
       "['metro', 'unreserved', 'superfast', 'local', 'bullettrain', 'express']"
      ]
     },
     "execution_count": 35,
     "metadata": {},
     "output_type": "execute_result"
    }
   ],
   "source": [
    "train_names.insert(0,\"metro\")\n",
    "train_names"
   ]
  },
  {
   "cell_type": "code",
   "execution_count": 36,
   "id": "7cb03964-c98e-432e-b2bf-1b5ae7d48396",
   "metadata": {},
   "outputs": [],
   "source": [
    "#delete"
   ]
  },
  {
   "cell_type": "code",
   "execution_count": 37,
   "id": "1cc094df-5da9-46ca-b8fb-44c91c38d958",
   "metadata": {},
   "outputs": [
    {
     "data": {
      "text/plain": [
       "['metro', 'unreserved', 'superfast']"
      ]
     },
     "execution_count": 37,
     "metadata": {},
     "output_type": "execute_result"
    }
   ],
   "source": [
    "del train_names[-3:]\n",
    "train_names"
   ]
  },
  {
   "cell_type": "markdown",
   "id": "abcfe48c-60f8-4985-85d0-fa7a8df634d6",
   "metadata": {},
   "source": [
    " # Dictionaries"
   ]
  },
  {
   "cell_type": "markdown",
   "id": "57b98774-3b75-4b91-a0c5-a3966a3d4d66",
   "metadata": {},
   "source": [
    "     The dictionary is the collection data type which is in the form of key value pair.\n",
    "     "
   ]
  },
  {
   "cell_type": "code",
   "execution_count": 38,
   "id": "9644048f-bc55-4790-b424-cf7482bf9415",
   "metadata": {},
   "outputs": [],
   "source": [
    "#create"
   ]
  },
  {
   "cell_type": "code",
   "execution_count": 39,
   "id": "6168c44f-cd98-4eb9-bb11-0942474415aa",
   "metadata": {},
   "outputs": [],
   "source": [
    "anton_stores={\"villukuri\":\"1st branch\",\"nagercoil\":\"second branch\",\"thuckally\":\"third branch\",\"marthandam\":\"fourth branch\"}"
   ]
  },
  {
   "cell_type": "code",
   "execution_count": 40,
   "id": "5ec145db-af20-4b65-8520-ebb7094e893d",
   "metadata": {},
   "outputs": [
    {
     "data": {
      "text/plain": [
       "{'villukuri': '1st branch',\n",
       " 'nagercoil': 'second branch',\n",
       " 'thuckally': 'third branch',\n",
       " 'marthandam': 'fourth branch'}"
      ]
     },
     "execution_count": 40,
     "metadata": {},
     "output_type": "execute_result"
    }
   ],
   "source": [
    "anton_stores"
   ]
  },
  {
   "cell_type": "code",
   "execution_count": 41,
   "id": "7813b05e-dc59-4c90-8ca9-e7cb1f0a6f5f",
   "metadata": {},
   "outputs": [],
   "source": [
    "#read"
   ]
  },
  {
   "cell_type": "code",
   "execution_count": 42,
   "id": "81b92651-f152-4549-9ec1-4bdb77225ab5",
   "metadata": {},
   "outputs": [
    {
     "data": {
      "text/plain": [
       "'second branch'"
      ]
     },
     "execution_count": 42,
     "metadata": {},
     "output_type": "execute_result"
    }
   ],
   "source": [
    "anton_stores[\"nagercoil\"]"
   ]
  },
  {
   "cell_type": "code",
   "execution_count": 43,
   "id": "8a3c7a3e-a372-4467-aaf0-bc7402a26cef",
   "metadata": {},
   "outputs": [
    {
     "data": {
      "text/plain": [
       "dict_keys(['villukuri', 'nagercoil', 'thuckally', 'marthandam'])"
      ]
     },
     "execution_count": 43,
     "metadata": {},
     "output_type": "execute_result"
    }
   ],
   "source": [
    "anton_stores.keys()"
   ]
  },
  {
   "cell_type": "code",
   "execution_count": 44,
   "id": "7da8e62b-096e-46e1-9814-eec3e847ce79",
   "metadata": {},
   "outputs": [
    {
     "data": {
      "text/plain": [
       "dict_values(['1st branch', 'second branch', 'third branch', 'fourth branch'])"
      ]
     },
     "execution_count": 44,
     "metadata": {},
     "output_type": "execute_result"
    }
   ],
   "source": [
    "anton_stores.values()"
   ]
  },
  {
   "cell_type": "code",
   "execution_count": 45,
   "id": "d6da5a93-d5cf-4274-a510-1a7636d8f401",
   "metadata": {},
   "outputs": [
    {
     "data": {
      "text/plain": [
       "'1st branch'"
      ]
     },
     "execution_count": 45,
     "metadata": {},
     "output_type": "execute_result"
    }
   ],
   "source": [
    "anton_stores[\"villukuri\"]"
   ]
  },
  {
   "cell_type": "code",
   "execution_count": 46,
   "id": "6b500784-6ed4-4d4c-b010-b2a2232bcb3d",
   "metadata": {},
   "outputs": [],
   "source": [
    "#update"
   ]
  },
  {
   "cell_type": "code",
   "execution_count": 47,
   "id": "82842bdf-9fa9-4b2d-9e45-e6d85318cded",
   "metadata": {},
   "outputs": [],
   "source": [
    "anton_stores[\"marthandam\"]=\"MondayMarket\""
   ]
  },
  {
   "cell_type": "code",
   "execution_count": 48,
   "id": "4c723d87-e079-42fe-b6d1-12a4a197665c",
   "metadata": {},
   "outputs": [
    {
     "data": {
      "text/plain": [
       "{'villukuri': '1st branch',\n",
       " 'nagercoil': 'second branch',\n",
       " 'thuckally': 'third branch',\n",
       " 'marthandam': 'MondayMarket'}"
      ]
     },
     "execution_count": 48,
     "metadata": {},
     "output_type": "execute_result"
    }
   ],
   "source": [
    "anton_stores"
   ]
  },
  {
   "cell_type": "code",
   "execution_count": 49,
   "id": "249a3115-bcd9-45e4-98e8-a9fc27aec1ba",
   "metadata": {},
   "outputs": [],
   "source": [
    "anton_stores[\"delhi\"]=\"latest branch\""
   ]
  },
  {
   "cell_type": "code",
   "execution_count": 50,
   "id": "9132255f-675d-4440-977d-453f0df42896",
   "metadata": {},
   "outputs": [
    {
     "data": {
      "text/plain": [
       "{'villukuri': '1st branch',\n",
       " 'nagercoil': 'second branch',\n",
       " 'thuckally': 'third branch',\n",
       " 'marthandam': 'MondayMarket',\n",
       " 'delhi': 'latest branch'}"
      ]
     },
     "execution_count": 50,
     "metadata": {},
     "output_type": "execute_result"
    }
   ],
   "source": [
    "anton_stores"
   ]
  },
  {
   "cell_type": "code",
   "execution_count": 51,
   "id": "c0c438e9-e58a-47e7-95c7-e1bfc2241c87",
   "metadata": {},
   "outputs": [],
   "source": [
    "#delete"
   ]
  },
  {
   "cell_type": "code",
   "execution_count": 52,
   "id": "cef8b3cc-3e8d-4e2f-b5ac-cbac25dd7d7f",
   "metadata": {},
   "outputs": [],
   "source": [
    "del anton_stores[\"delhi\"]"
   ]
  },
  {
   "cell_type": "code",
   "execution_count": 53,
   "id": "ae3f710b-caa0-4c3c-b8ba-88148813cb7b",
   "metadata": {},
   "outputs": [
    {
     "data": {
      "text/plain": [
       "{'villukuri': '1st branch',\n",
       " 'nagercoil': 'second branch',\n",
       " 'thuckally': 'third branch',\n",
       " 'marthandam': 'MondayMarket'}"
      ]
     },
     "execution_count": 53,
     "metadata": {},
     "output_type": "execute_result"
    }
   ],
   "source": [
    "anton_stores"
   ]
  },
  {
   "cell_type": "markdown",
   "id": "c09d8087-eb0b-43a2-b34b-ba1dbc81c97f",
   "metadata": {},
   "source": [
    "# Conditionals and logic"
   ]
  },
  {
   "cell_type": "code",
   "execution_count": 54,
   "id": "2083a310-b8bf-4ab3-9f59-c9fff219cd63",
   "metadata": {},
   "outputs": [
    {
     "name": "stdout",
     "output_type": "stream",
     "text": [
      "I have 5 mangoeas\n"
     ]
    }
   ],
   "source": [
    "mango=5\n",
    "if mango == 5:\n",
    "    print(\"I have 5 mangoeas\")"
   ]
  },
  {
   "cell_type": "code",
   "execution_count": 55,
   "id": "1eb765b0-1e4c-488e-ab4e-2fa684bdfd83",
   "metadata": {},
   "outputs": [
    {
     "name": "stdout",
     "output_type": "stream",
     "text": [
      "It's great\n"
     ]
    }
   ],
   "source": [
    "#creating a list fo if-else\n",
    "list1=[\"working people\",\"students\",\"graduates\",\"emplooyee\"]\n",
    "if \"emplooye\" in list1:\n",
    "    print(\"you deserve better in our nation...\")\n",
    "else:\n",
    "    print('It\\'s great')#\\next character doesn't read ,called as python escape"
   ]
  },
  {
   "cell_type": "markdown",
   "id": "ce959efc-ca71-4544-b901-ecd4907c999a",
   "metadata": {},
   "source": [
    "# Loops"
   ]
  },
  {
   "cell_type": "code",
   "execution_count": 56,
   "id": "e753cfbd-59dc-4e7e-a6ed-785365e61dc0",
   "metadata": {},
   "outputs": [
    {
     "name": "stdout",
     "output_type": "stream",
     "text": [
      "working people\n",
      "students\n",
      "graduates\n",
      "emplooyee\n"
     ]
    }
   ],
   "source": [
    "# simple example for a for loop\n",
    "for elements in list1:\n",
    "    print(elements)"
   ]
  },
  {
   "cell_type": "code",
   "execution_count": 57,
   "id": "ec5ffbec-9f69-462e-9a8c-39eea90784ca",
   "metadata": {},
   "outputs": [
    {
     "name": "stdout",
     "output_type": "stream",
     "text": [
      "working people\n",
      "students\n",
      "you have better future...\n",
      "graduates\n",
      "you will pay for your own in future...\n",
      "emplooyee\n"
     ]
    }
   ],
   "source": [
    "for elements in list1:\n",
    "    print(elements)\n",
    "    if elements==\"students\":\n",
    "        print(\"you have better future...\")\n",
    "    if elements ==\"graduates\":\n",
    "        print(\"you will pay for your own in future...\")\n",
    "    "
   ]
  },
  {
   "cell_type": "code",
   "execution_count": 58,
   "id": "982b4419-f760-4bc9-8fd5-3b4439a0f6a4",
   "metadata": {},
   "outputs": [
    {
     "name": "stdout",
     "output_type": "stream",
     "text": [
      "0\n",
      "1\n",
      "2\n",
      "3\n",
      "4\n",
      "5\n",
      "6\n",
      "7\n",
      "8\n",
      "9\n"
     ]
    }
   ],
   "source": [
    "for elements in range(10):\n",
    "    print(elements)"
   ]
  },
  {
   "cell_type": "code",
   "execution_count": null,
   "id": "e1ef9d82-e8fe-46dd-9b57-21eb7f126673",
   "metadata": {},
   "outputs": [],
   "source": []
  },
  {
   "cell_type": "code",
   "execution_count": 2,
   "id": "1a7ea574-447d-437d-a29c-7e3681503c3f",
   "metadata": {},
   "outputs": [
    {
     "name": "stdout",
     "output_type": "stream",
     "text": [
      "let's see the number one by one\n",
      "let's see the number one by one\n",
      "let's see the number one by one\n",
      "let's see the number one by one\n",
      "let's see the number one by one\n",
      "my code is correct\n"
     ]
    }
   ],
   "source": [
    "initial_value=0\n",
    "final_value=5\n",
    "\n",
    "while True:\n",
    "    print(\"let's see the number one by one\")\n",
    "    initial_value+=1\n",
    "    if initial_value==final_value:\n",
    "        print(\"my code is correct\")\n",
    "        break"
   ]
  },
  {
   "cell_type": "code",
   "execution_count": 5,
   "id": "3ce13798-cfdf-4af4-bc35-cd1b44cb0854",
   "metadata": {},
   "outputs": [
    {
     "name": "stdout",
     "output_type": "stream",
     "text": [
      "{'fruit': 'Apple', 'Vegitable': 'greens', 'trees': 'neam tree'}\n",
      "{'fruit': 'Apple', 'Vegitable': 'greens', 'trees': 'neam tree'}\n",
      "{'fruit': 'Apple', 'Vegitable': 'greens', 'trees': 'neam tree'}\n"
     ]
    }
   ],
   "source": [
    "# loop through a key in dictionary\n",
    "dict={\"fruit\":\"Apple\",\"Vegitable\":\"greens\",\"trees\":\"neam tree\"}\n",
    "for keys in dict.keys():# dictionary elements\n",
    "    print(dict)"
   ]
  },
  {
   "cell_type": "code",
   "execution_count": 4,
   "id": "87229dce-7d8c-4eb5-832d-2f8413c14825",
   "metadata": {},
   "outputs": [
    {
     "name": "stdout",
     "output_type": "stream",
     "text": [
      "fruit\n",
      "Vegitable\n",
      "trees\n"
     ]
    }
   ],
   "source": [
    "for keys in dict.keys():\n",
    "    print(keys)"
   ]
  },
  {
   "cell_type": "code",
   "execution_count": 8,
   "id": "dfea5c4e-c082-46bb-a3bd-684eeb0ea2e8",
   "metadata": {},
   "outputs": [
    {
     "name": "stdout",
     "output_type": "stream",
     "text": [
      "Apple\n",
      "greens\n",
      "neam tree\n"
     ]
    }
   ],
   "source": [
    "for values in dict.values(): #accesing only the values\n",
    "    print (values)"
   ]
  },
  {
   "cell_type": "code",
   "execution_count": 7,
   "id": "018f6248-b024-4a53-bce5-4c6c7d67f527",
   "metadata": {},
   "outputs": [
    {
     "name": "stdout",
     "output_type": "stream",
     "text": [
      "fruit Apple\n",
      "Vegitable greens\n",
      "trees neam tree\n"
     ]
    }
   ],
   "source": [
    "for keys,values in dict.items(): #accesing keys and values\n",
    "    print(keys,values)"
   ]
  },
  {
   "cell_type": "code",
   "execution_count": 11,
   "id": "dc5f7975-b0d2-484b-b225-81ade8d3f4ff",
   "metadata": {},
   "outputs": [
    {
     "data": {
      "text/plain": [
       "['apple', 'mango', 'orange', 'banana']"
      ]
     },
     "execution_count": 11,
     "metadata": {},
     "output_type": "execute_result"
    }
   ],
   "source": [
    "my_list2=[\"apple\",\"mango\",\"orange\",\"banana\"]\n",
    "my_list2"
   ]
  },
  {
   "cell_type": "code",
   "execution_count": 20,
   "id": "847ea7fe-ba9c-4e30-bed4-881bed94c65f",
   "metadata": {},
   "outputs": [],
   "source": [
    "#list comprehension\n",
    "new=[ names.title() for names in my_list2]#capitalize the first word"
   ]
  },
  {
   "cell_type": "code",
   "execution_count": 21,
   "id": "eb5df058-086a-4997-9690-7390c0e98959",
   "metadata": {},
   "outputs": [
    {
     "data": {
      "text/plain": [
       "['Apple', 'Mango', 'Orange', 'Banana']"
      ]
     },
     "execution_count": 21,
     "metadata": {},
     "output_type": "execute_result"
    }
   ],
   "source": [
    "new"
   ]
  },
  {
   "cell_type": "markdown",
   "id": "3515e263-aca1-4d47-9a2e-7aeead04fba2",
   "metadata": {},
   "source": [
    "# Function"
   ]
  },
  {
   "cell_type": "code",
   "execution_count": 4,
   "id": "7bf2a4d1-088a-4fab-94a9-f79eb3b24fe3",
   "metadata": {},
   "outputs": [],
   "source": [
    "# Creating a function here\n",
    "def my_home():\n",
    "    print(\"welcome! to my Home:::\")"
   ]
  },
  {
   "cell_type": "code",
   "execution_count": 3,
   "id": "4652918e-d13b-4b3d-ae8b-1afab3c9c0f5",
   "metadata": {},
   "outputs": [
    {
     "name": "stdout",
     "output_type": "stream",
     "text": [
      "welcome! to my Home:::\n"
     ]
    }
   ],
   "source": [
    "my_home()"
   ]
  },
  {
   "cell_type": "code",
   "execution_count": 5,
   "id": "dd8ece94-d35f-4fee-abea-dbf3ed49b1f3",
   "metadata": {},
   "outputs": [],
   "source": [
    "# creating a function with one or more print statements\n",
    "def my_house():\n",
    "    print(\"sweet home\")\n",
    "    print(\"i love my house\")\n",
    "    print(\"home sweet home\")"
   ]
  },
  {
   "cell_type": "code",
   "execution_count": 6,
   "id": "bd35e3f1-a53e-41cc-a7f6-a1e70a58d6f7",
   "metadata": {},
   "outputs": [
    {
     "name": "stdout",
     "output_type": "stream",
     "text": [
      "sweet home\n",
      "i love my house\n",
      "home sweet home\n"
     ]
    }
   ],
   "source": [
    "my_house()"
   ]
  },
  {
   "cell_type": "code",
   "execution_count": 7,
   "id": "070c4d52-886c-40ed-8f64-7d5db60ebc0b",
   "metadata": {},
   "outputs": [
    {
     "name": "stdout",
     "output_type": "stream",
     "text": [
      "sweet home\n",
      "i love my house\n",
      "home sweet home\n",
      "sweet home\n",
      "i love my house\n",
      "home sweet home\n",
      "sweet home\n",
      "i love my house\n",
      "home sweet home\n",
      "sweet home\n",
      "i love my house\n",
      "home sweet home\n",
      "sweet home\n",
      "i love my house\n",
      "home sweet home\n",
      "sweet home\n",
      "i love my house\n",
      "home sweet home\n",
      "sweet home\n",
      "i love my house\n",
      "home sweet home\n",
      "sweet home\n",
      "i love my house\n",
      "home sweet home\n",
      "sweet home\n",
      "i love my house\n",
      "home sweet home\n",
      "sweet home\n",
      "i love my house\n",
      "home sweet home\n"
     ]
    }
   ],
   "source": [
    "# accessing  the function using for loop\n",
    "for elements in range(10):\n",
    "    my_house()\n",
    "    "
   ]
  },
  {
   "cell_type": "code",
   "execution_count": 36,
   "id": "322da750-6df9-45fb-a416-0e01d42153b8",
   "metadata": {},
   "outputs": [
    {
     "name": "stdout",
     "output_type": "stream",
     "text": [
      "['simple', 'complex', 'compound']\n"
     ]
    }
   ],
   "source": [
    "houses=[\"simple\",\"complex\",\"compound\"]\n",
    "print(houses)"
   ]
  },
  {
   "cell_type": "code",
   "execution_count": 33,
   "id": "415f7b8d-8d95-46cb-85dd-ad9e854d4f2f",
   "metadata": {},
   "outputs": [],
   "source": [
    "\n",
    "def auto_home(house):\n",
    "    print(\"welcome {}\".format(house)) # formatting"
   ]
  },
  {
   "cell_type": "code",
   "execution_count": 37,
   "id": "15b83b8f-52ba-449e-bbd3-76beff4fe05e",
   "metadata": {},
   "outputs": [
    {
     "name": "stdout",
     "output_type": "stream",
     "text": [
      "welcome book\n"
     ]
    }
   ],
   "source": [
    "auto_home('book')"
   ]
  },
  {
   "cell_type": "code",
   "execution_count": 46,
   "id": "b90bf4bb-6920-4a1c-8e89-311ffbfdfe41",
   "metadata": {},
   "outputs": [
    {
     "name": "stdout",
     "output_type": "stream",
     "text": [
      "welcome simple\n",
      "welcome complex\n",
      "welcome compound\n"
     ]
    }
   ],
   "source": [
    "for values in houses:\n",
    "    auto_home(values)\n"
   ]
  },
  {
   "cell_type": "code",
   "execution_count": 10,
   "id": "cf2f5150-f503-4745-b181-3375450bc42f",
   "metadata": {},
   "outputs": [
    {
     "name": "stdout",
     "output_type": "stream",
     "text": [
      "WELCOME Agnesa!!\n"
     ]
    }
   ],
   "source": [
    "#String formatting\n",
    "print (\"WELCOME {}\". format(\"Agnesa!!\"))"
   ]
  },
  {
   "cell_type": "code",
   "execution_count": 40,
   "id": "dea7eac8-09a3-4c72-9ea2-4b7c01f702a6",
   "metadata": {},
   "outputs": [],
   "source": [
    "#Creating a list\n",
    "youtube=[\"Tamilfactory\",\"minutemystry\",\"tamilvoiceover\",\"bigbang\"]"
   ]
  },
  {
   "cell_type": "code",
   "execution_count": 42,
   "id": "0bf76e47-6c11-4b28-aaa0-c012d5eb1fc3",
   "metadata": {},
   "outputs": [],
   "source": [
    "#creating a function, positional arugment \n",
    "def my_list (values):\n",
    "    print(\"welcome {} youtube\".format(values))"
   ]
  },
  {
   "cell_type": "code",
   "execution_count": 44,
   "id": "fc7dc952-df2a-469f-bdad-674e17bfb9ba",
   "metadata": {},
   "outputs": [
    {
     "name": "stdout",
     "output_type": "stream",
     "text": [
      "welcome miss Jenifer youtube\n"
     ]
    }
   ],
   "source": [
    "my_list('miss Jenifer')"
   ]
  },
  {
   "cell_type": "code",
   "execution_count": 45,
   "id": "7b5bdcde-3505-4673-8835-e0e632e3db3a",
   "metadata": {},
   "outputs": [
    {
     "name": "stdout",
     "output_type": "stream",
     "text": [
      "welcome Tamilfactory youtube\n",
      "welcome minutemystry youtube\n",
      "welcome tamilvoiceover youtube\n",
      "welcome bigbang youtube\n"
     ]
    }
   ],
   "source": [
    "# accessing the function and a list through for loop\n",
    "for elements in youtube:\n",
    "    my_list(elements)"
   ]
  },
  {
   "cell_type": "code",
   "execution_count": 47,
   "id": "ce18f3a2-bc4a-4b20-b53f-c3b5f188e914",
   "metadata": {},
   "outputs": [],
   "source": [
    "# multiple position aruguments\n",
    "def christianity (saint_names,special):\n",
    "    print(\"I am {} comes to {} you\".format(saint_names,special))"
   ]
  },
  {
   "cell_type": "code",
   "execution_count": 49,
   "id": "35c47732-1b28-4d4b-9c52-8aedd678d850",
   "metadata": {},
   "outputs": [
    {
     "name": "stdout",
     "output_type": "stream",
     "text": [
      "I am St.Antony comes to bless you\n"
     ]
    }
   ],
   "source": [
    "christianity(\"St.Antony\",\"bless\")"
   ]
  },
  {
   "cell_type": "code",
   "execution_count": 8,
   "id": "83527918-98db-43b2-8c17-e8285528294a",
   "metadata": {},
   "outputs": [],
   "source": [
    "#key word aruugumrnts\n",
    "def my_clg(friends='boys'):\n",
    "    return('I have {} friends'.format(friends) )"
   ]
  },
  {
   "cell_type": "code",
   "execution_count": 10,
   "id": "2ab794be-e9cd-4c75-81c1-4cb69d0cef05",
   "metadata": {},
   "outputs": [
    {
     "data": {
      "text/plain": [
       "'I have s friends'"
      ]
     },
     "execution_count": 10,
     "metadata": {},
     "output_type": "execute_result"
    }
   ],
   "source": [
    "my_clg('s')"
   ]
  },
  {
   "cell_type": "code",
   "execution_count": 11,
   "id": "56bec388-793b-43a7-bf72-b2c746cc8707",
   "metadata": {},
   "outputs": [
    {
     "name": "stdout",
     "output_type": "stream",
     "text": [
      "Object `ennuumerate` not found.\n"
     ]
    }
   ],
   "source": [
    "class_name=['II CSE-A','II CSE-B','III CSE--A','III CSE-B','IV CSE-A','IV CSE-B']"
   ]
  },
  {
   "cell_type": "code",
   "execution_count": 2,
   "id": "9c4d5b8f-eb45-4571-b113-da21aedb8759",
   "metadata": {},
   "outputs": [
    {
     "name": "stdout",
     "output_type": "stream",
     "text": [
      "0 II CSE-A\n",
      "1 II CSE-B\n",
      "2 III CSE--A\n",
      "3 III CSE-B\n",
      "4 IV CSE-A\n",
      "5 IV CSE-B\n"
     ]
    }
   ],
   "source": [
    "class_name=['II CSE-A','II CSE-B','III CSE--A','III CSE-B','IV CSE-A','IV CSE-B']\n",
    "for idx,elements in enumerate(class_name):\n",
    "    print(idx,elements)"
   ]
  },
  {
   "cell_type": "code",
   "execution_count": 1,
   "id": "f3895156-56f4-4a74-8d0d-db059412b71f",
   "metadata": {},
   "outputs": [],
   "source": [
    "new_students=[45,56,98,66,47,93]"
   ]
  },
  {
   "cell_type": "code",
   "execution_count": 9,
   "id": "48ffab39-594e-403f-b0ce-78b3147b4e60",
   "metadata": {},
   "outputs": [],
   "source": [
    "months=['january','february','march','april','may','june','july','august','september','october','november','december']"
   ]
  },
  {
   "cell_type": "code",
   "execution_count": 11,
   "id": "8f773619-8601-4f38-ae5d-f34e6055f1bf",
   "metadata": {},
   "outputs": [
    {
     "name": "stdout",
     "output_type": "stream",
     "text": [
      "welcome to january\n",
      "welcome to february\n",
      "welcome to march\n",
      "welcome to april\n",
      "welcome to may\n",
      "welcome to june\n",
      "welcome to july\n",
      "welcome to august\n",
      "welcome to september\n",
      "welcome to october\n",
      "welcome to november\n",
      "welcome to december\n"
     ]
    }
   ],
   "source": [
    "for i in months:\n",
    "    print(\"welcome to {}\".format(i))"
   ]
  },
  {
   "cell_type": "code",
   "execution_count": 4,
   "id": "78520224-dc37-4a77-a8bd-adf1e5a5e34b",
   "metadata": {},
   "outputs": [],
   "source": [
    "# lambda function / ananomusfunction\n",
    "pi = lambda a : a*3.14"
   ]
  },
  {
   "cell_type": "code",
   "execution_count": 5,
   "id": "5697933c-24d9-4bfa-b0ec-486f5ac1ee3a",
   "metadata": {},
   "outputs": [
    {
     "data": {
      "text/plain": [
       "21.98"
      ]
     },
     "execution_count": 5,
     "metadata": {},
     "output_type": "execute_result"
    }
   ],
   "source": [
    "pi(7)"
   ]
  },
  {
   "cell_type": "code",
   "execution_count": 6,
   "id": "01c988f0-0d8e-433a-ba52-7e85b2a99d0c",
   "metadata": {},
   "outputs": [
    {
     "data": {
      "text/plain": [
       "3.14"
      ]
     },
     "execution_count": 6,
     "metadata": {},
     "output_type": "execute_result"
    }
   ],
   "source": [
    "pi(1)"
   ]
  },
  {
   "cell_type": "markdown",
   "id": "4dc2a1ed-1e65-4703-a2e5-b0c1402966a8",
   "metadata": {},
   "source": [
    "# Class"
   ]
  },
  {
   "cell_type": "code",
   "execution_count": 13,
   "id": "7a2d13da-72b1-4592-ae9a-e962998b9e35",
   "metadata": {},
   "outputs": [],
   "source": [
    "# creating a class\n",
    "class Person():\n",
    "    # creating a method which is inbuilt as soon as creating a class **initalize**\n",
    "    def __init__(self,name,age,gender):\n",
    "        self.name= name\n",
    "        self.age = age\n",
    "        self.gender= gender\n",
    "        "
   ]
  },
  {
   "cell_type": "code",
   "execution_count": 14,
   "id": "3e5f1886-3f10-43ad-a7d6-90c246a7c131",
   "metadata": {},
   "outputs": [],
   "source": [
    "#creating an object\n",
    "new_person= Person(\"Agnesa\",20,\"Female\")"
   ]
  },
  {
   "cell_type": "code",
   "execution_count": 16,
   "id": "967092d1-cdb9-4a91-b564-23e0d7cda102",
   "metadata": {},
   "outputs": [
    {
     "data": {
      "text/plain": [
       "'Agnesa'"
      ]
     },
     "execution_count": 16,
     "metadata": {},
     "output_type": "execute_result"
    }
   ],
   "source": [
    "#accesing through augument value\n",
    "new_person.name"
   ]
  },
  {
   "cell_type": "code",
   "execution_count": 3,
   "id": "ac7efdae-33c7-4c06-90b8-a8544f450534",
   "metadata": {},
   "outputs": [],
   "source": [
    "class Bus_ticket():\n",
    "    def __init__(self,departure_place,cost,mode):\n",
    "        self.departure=departure_place\n",
    "        self.cost=cost\n",
    "        self.mode=mode\n",
    "    #creating a method\n",
    "    def cost_tax(self):\n",
    "        return self.cost+20\n",
    "    #creating a key value method\n",
    "    def new_cost(self,value=80):\n",
    "        return self.cost+value\n",
    "        "
   ]
  },
  {
   "cell_type": "code",
   "execution_count": 4,
   "id": "8c2b096b-56b6-4ede-ac04-1ade095cba00",
   "metadata": {},
   "outputs": [],
   "source": [
    "new_bus=Bus_ticket(\"Nagercoil\",10,\"non_AC\")"
   ]
  },
  {
   "cell_type": "code",
   "execution_count": 5,
   "id": "3e38a331-57e3-4503-bc61-c42f3e4acf82",
   "metadata": {},
   "outputs": [
    {
     "data": {
      "text/plain": [
       "'non_AC'"
      ]
     },
     "execution_count": 5,
     "metadata": {},
     "output_type": "execute_result"
    }
   ],
   "source": [
    "\n",
    "new_bus.mode"
   ]
  },
  {
   "cell_type": "code",
   "execution_count": 6,
   "id": "8561490b-3d79-4550-b039-8b7744d74dea",
   "metadata": {},
   "outputs": [],
   "source": [
    "#methods can be called through object"
   ]
  },
  {
   "cell_type": "code",
   "execution_count": 7,
   "id": "375cfd26-67ef-407e-8a69-ba7fe16d476a",
   "metadata": {},
   "outputs": [
    {
     "data": {
      "text/plain": [
       "30"
      ]
     },
     "execution_count": 7,
     "metadata": {},
     "output_type": "execute_result"
    }
   ],
   "source": [
    "#accesssing 2nd method\n",
    "new_bus.cost_tax()"
   ]
  },
  {
   "cell_type": "code",
   "execution_count": 8,
   "id": "20c10125-a70f-4ac4-8587-2ee3d293b770",
   "metadata": {},
   "outputs": [
    {
     "data": {
      "text/plain": [
       "65"
      ]
     },
     "execution_count": 8,
     "metadata": {},
     "output_type": "execute_result"
    }
   ],
   "source": [
    "#accessing through positional arguments\n",
    "new_bus.new_cost(55)"
   ]
  },
  {
   "cell_type": "markdown",
   "id": "b5651b5d-7e0f-402b-af3b-27a1f8f47fef",
   "metadata": {},
   "source": [
    "# Inheritance\n",
    "    -It provides parent-child relation\n",
    "    - It is used to extend the parent class"
   ]
  },
  {
   "cell_type": "code",
   "execution_count": 9,
   "id": "156b119d-766d-439e-b389-78b320584a7d",
   "metadata": {},
   "outputs": [],
   "source": [
    "# creating a child class\n",
    "class Train_ticket(Bus_ticket):\n",
    "    #creating a method based on the parent class\n",
    "    def __init__(self,depature_place,cost,mode):\n",
    "        #SUPER method used to access the parent method\n",
    "        super().__init__(depature_place,cost,mode)"
   ]
  },
  {
   "cell_type": "code",
   "execution_count": 10,
   "id": "b6647e56-aa7f-4415-8f88-fa55530961b7",
   "metadata": {},
   "outputs": [],
   "source": [
    "#creating an object\n",
    "new_train=Train_ticket(\"Nagercoil\",250,\"unreserved\")"
   ]
  },
  {
   "cell_type": "code",
   "execution_count": 11,
   "id": "286224d2-0ceb-49e7-b011-fa3a84198f38",
   "metadata": {},
   "outputs": [
    {
     "data": {
      "text/plain": [
       "250"
      ]
     },
     "execution_count": 11,
     "metadata": {},
     "output_type": "execute_result"
    }
   ],
   "source": [
    "new_train.cost"
   ]
  },
  {
   "cell_type": "code",
   "execution_count": 26,
   "id": "5be1aff9-b3d4-4f1e-9b4f-7522df68fab6",
   "metadata": {},
   "outputs": [],
   "source": [
    "# my own example,creating a class\n",
    "class Subject_marks():\n",
    "    # defining a method\n",
    "    def __init__(self,theory_marks,pratical_marks):\n",
    "        self.theory_marks= theory_marks\n",
    "        self.pratical_marks=pratical_marks\n",
    "    def total_subject_marks(self):\n",
    "        total=self.theory_marks+self.pratical_marks\n",
    "        return total"
   ]
  },
  {
   "cell_type": "code",
   "execution_count": 27,
   "id": "4ffe3cc9-befd-4104-b18b-6c327cdeac6e",
   "metadata": {},
   "outputs": [],
   "source": [
    "new_subject=Subject_marks(58,34)"
   ]
  },
  {
   "cell_type": "code",
   "execution_count": 28,
   "id": "22232b55-3a55-4525-8570-c04a99f4b03c",
   "metadata": {},
   "outputs": [
    {
     "data": {
      "text/plain": [
       "34"
      ]
     },
     "execution_count": 28,
     "metadata": {},
     "output_type": "execute_result"
    }
   ],
   "source": [
    "new_subject.pratical_marks"
   ]
  },
  {
   "cell_type": "code",
   "execution_count": 29,
   "id": "a998d7d5-3490-4fff-b3f6-6aeb22fa0ce8",
   "metadata": {},
   "outputs": [
    {
     "data": {
      "text/plain": [
       "92"
      ]
     },
     "execution_count": 29,
     "metadata": {},
     "output_type": "execute_result"
    }
   ],
   "source": [
    "new_subject.total_subject_marks()"
   ]
  },
  {
   "cell_type": "code",
   "execution_count": 31,
   "id": "27c1fbe5-c767-4a12-a304-5030dec4bca7",
   "metadata": {},
   "outputs": [],
   "source": [
    "# creating my own inheritance\n",
    "class New_marks(Subject_marks):\n",
    "    def __init__(self,theory_marks,pratical_marks,slip_test_marks):\n",
    "        super().__init__(theory_marks,pratical_marks)\n",
    "        self.slip_test_marks=slip_test_marks\n",
    "\n",
    "    def new_special_marks(self):\n",
    "        total_m=self.theory_marks+self.pratical_marks+self.slip_test_marks\n",
    "        return total_m"
   ]
  },
  {
   "cell_type": "code",
   "execution_count": 33,
   "id": "3deae8a2-02d0-47db-b266-39e3fa04cfdf",
   "metadata": {},
   "outputs": [],
   "source": [
    "my_marks=New_marks(55,20,20)"
   ]
  },
  {
   "cell_type": "code",
   "execution_count": 34,
   "id": "0bd03cf9-cf11-47e3-a1ae-5996a50601c1",
   "metadata": {},
   "outputs": [
    {
     "data": {
      "text/plain": [
       "95"
      ]
     },
     "execution_count": 34,
     "metadata": {},
     "output_type": "execute_result"
    }
   ],
   "source": [
    "my_marks.new_special_marks()"
   ]
  },
  {
   "cell_type": "code",
   "execution_count": 37,
   "id": "2b18c7eb-097b-4e45-94b1-4070940ea7f7",
   "metadata": {},
   "outputs": [
    {
     "data": {
      "text/plain": [
       "75"
      ]
     },
     "execution_count": 37,
     "metadata": {},
     "output_type": "execute_result"
    }
   ],
   "source": [
    "my_marks.total_subject_marks()"
   ]
  },
  {
   "cell_type": "code",
   "execution_count": 1,
   "id": "cd34269b-4e5d-47ca-9f96-b7fd2f95a4d2",
   "metadata": {},
   "outputs": [
    {
     "name": "stdout",
     "output_type": "stream",
     "text": [
      "10\n"
     ]
    }
   ],
   "source": [
    "a=10\n",
    "print(a)"
   ]
  },
  {
   "cell_type": "code",
   "execution_count": 2,
   "id": "2a465356-ef4f-4678-b8d9-fbe5cce20c2e",
   "metadata": {},
   "outputs": [],
   "source": [
    "def new_pen():\n",
    "    print(\"I bought a new pen\")"
   ]
  },
  {
   "cell_type": "code",
   "execution_count": 3,
   "id": "fb215c18-d886-4ba7-a27a-71884a798d8c",
   "metadata": {},
   "outputs": [
    {
     "name": "stdout",
     "output_type": "stream",
     "text": [
      "I bought a new pen\n"
     ]
    }
   ],
   "source": [
    "new_pen()"
   ]
  },
  {
   "cell_type": "markdown",
   "id": "95e5e51f-ad16-41a5-8a5d-e153da7f133b",
   "metadata": {},
   "source": [
    "# Modules"
   ]
  },
  {
   "cell_type": "code",
   "execution_count": 7,
   "id": "877680b7-d666-43c8-bd54-1e43f1c49d43",
   "metadata": {},
   "outputs": [],
   "source": [
    "# importing test method\n",
    "from newtest import code_launch"
   ]
  },
  {
   "cell_type": "code",
   "execution_count": 8,
   "id": "58d54199-14b5-4b24-861b-24e588ced80f",
   "metadata": {},
   "outputs": [
    {
     "data": {
      "text/plain": [
       "123456789"
      ]
     },
     "execution_count": 8,
     "metadata": {},
     "output_type": "execute_result"
    }
   ],
   "source": [
    "code_launch()"
   ]
  },
  {
   "cell_type": "markdown",
   "id": "48db1f5b-46cf-4be6-bf35-9a2257171b6e",
   "metadata": {},
   "source": [
    "# Working with pip install requestsackages"
   ]
  },
  {
   "cell_type": "code",
   "execution_count": 2,
   "id": "29bd1e8f-ebd1-4c45-b200-850079d7019c",
   "metadata": {
    "collapsed": true,
    "jupyter": {
     "outputs_hidden": true
    }
   },
   "outputs": [
    {
     "name": "stdout",
     "output_type": "stream",
     "text": [
      "Requirement already satisfied: requests in c:\\users\\agnes\\appdata\\local\\programs\\python\\python39\\lib\\site-packages (2.32.3)\n",
      "Requirement already satisfied: charset-normalizer<4,>=2 in c:\\users\\agnes\\appdata\\local\\programs\\python\\python39\\lib\\site-packages (from requests) (3.4.1)\n",
      "Requirement already satisfied: idna<4,>=2.5 in c:\\users\\agnes\\appdata\\local\\programs\\python\\python39\\lib\\site-packages (from requests) (3.10)\n",
      "Requirement already satisfied: urllib3<3,>=1.21.1 in c:\\users\\agnes\\appdata\\local\\programs\\python\\python39\\lib\\site-packages (from requests) (1.26.20)\n",
      "Requirement already satisfied: certifi>=2017.4.17 in c:\\users\\agnes\\appdata\\local\\programs\\python\\python39\\lib\\site-packages (from requests) (2024.12.14)\n"
     ]
    },
    {
     "name": "stderr",
     "output_type": "stream",
     "text": [
      "\n",
      "[notice] A new release of pip is available: 25.0 -> 25.0.1\n",
      "[notice] To update, run: python.exe -m pip install --upgrade pip\n"
     ]
    }
   ],
   "source": [
    "!pip install requests"
   ]
  },
  {
   "cell_type": "code",
   "execution_count": 3,
   "id": "c1f7748f-dd86-4100-bdf0-f573d6c201fb",
   "metadata": {
    "collapsed": true,
    "jupyter": {
     "outputs_hidden": true
    }
   },
   "outputs": [
    {
     "name": "stdout",
     "output_type": "stream",
     "text": [
      "Package                      Version\n",
      "---------------------------- -----------\n",
      "absl-py                      1.4.0\n",
      "aio-pika                     8.2.3\n",
      "aiofiles                     24.1.0\n",
      "aiogram                      2.15\n",
      "aiohttp                      3.9.5\n",
      "aiohttp-retry                2.9.1\n",
      "aiormq                       6.4.2\n",
      "aiosignal                    1.3.2\n",
      "APScheduler                  3.9.1.post1\n",
      "astunparse                   1.6.3\n",
      "async-timeout                4.0.3\n",
      "attrs                        22.1.0\n",
      "babel                        2.16.0\n",
      "bidict                       0.23.1\n",
      "boto3                        1.36.9\n",
      "botocore                     1.36.9\n",
      "CacheControl                 0.12.14\n",
      "cachetools                   5.5.1\n",
      "certifi                      2024.12.14\n",
      "cffi                         1.17.1\n",
      "charset-normalizer           3.4.1\n",
      "click                        8.1.8\n",
      "cloudpickle                  3.1.1\n",
      "colorama                     0.4.6\n",
      "colorclass                   2.2.2\n",
      "coloredlogs                  15.0.1\n",
      "colorhash                    1.2.1\n",
      "confluent-kafka              2.8.0\n",
      "cryptography                 44.0.0\n",
      "cycler                       0.12.1\n",
      "dask                         2022.10.2\n",
      "dnspython                    2.3.0\n",
      "docopt                       0.6.2\n",
      "fbmessenger                  6.0.0\n",
      "filelock                     3.17.0\n",
      "fire                         0.7.0\n",
      "flatbuffers                  25.1.24\n",
      "fonttools                    4.55.8\n",
      "frozenlist                   1.5.0\n",
      "fsspec                       2024.12.0\n",
      "future                       1.0.0\n",
      "gast                         0.4.0\n",
      "google-auth                  2.38.0\n",
      "google-auth-oauthlib         1.0.0\n",
      "google-pasta                 0.2.0\n",
      "greenlet                     3.1.1\n",
      "grpcio                       1.70.0\n",
      "h11                          0.14.0\n",
      "h5py                         3.12.1\n",
      "httptools                    0.6.4\n",
      "huggingface-hub              0.28.0\n",
      "humanfriendly                10.0\n",
      "idna                         3.10\n",
      "importlib_metadata           8.6.1\n",
      "jax                          0.4.30\n",
      "jaxlib                       0.4.30\n",
      "jmespath                     1.0.1\n",
      "joblib                       1.4.2\n",
      "jsonpickle                   3.0.4\n",
      "jsonschema                   4.17.3\n",
      "keras                        2.12.0\n",
      "kiwisolver                   1.4.7\n",
      "libclang                     18.1.1\n",
      "locket                       1.0.0\n",
      "Markdown                     3.7\n",
      "MarkupSafe                   3.0.2\n",
      "matplotlib                   3.5.3\n",
      "mattermostwrapper            2.2\n",
      "ml_dtypes                    0.5.1\n",
      "msgpack                      1.1.0\n",
      "multidict                    5.2.0\n",
      "networkx                     2.6.3\n",
      "numpy                        1.23.5\n",
      "oauthlib                     3.2.2\n",
      "opt_einsum                   3.4.0\n",
      "packaging                    20.9\n",
      "pamqp                        3.2.1\n",
      "partd                        1.4.2\n",
      "pillow                       11.1.0\n",
      "pip                          25.0\n",
      "pluggy                       1.5.0\n",
      "portalocker                  2.10.1\n",
      "prompt-toolkit               3.0.28\n",
      "propcache                    0.2.1\n",
      "protobuf                     4.23.3\n",
      "psycopg2-binary              2.9.10\n",
      "pyasn1                       0.6.1\n",
      "pyasn1_modules               0.4.1\n",
      "pycparser                    2.22\n",
      "pydantic                     1.10.9\n",
      "pydot                        1.4.2\n",
      "PyJWT                        2.10.1\n",
      "pykwalify                    1.8.0\n",
      "pymongo                      4.3.3\n",
      "pyparsing                    3.2.1\n",
      "pyreadline3                  3.5.4\n",
      "pyrsistent                   0.20.0\n",
      "python-crfsuite              0.9.11\n",
      "python-dateutil              2.8.2\n",
      "python-engineio              4.11.2\n",
      "python-socketio              5.12.1\n",
      "pytz                         2022.7.1\n",
      "pywin32                      308\n",
      "PyYAML                       6.0.2\n",
      "questionary                  1.10.0\n",
      "randomname                   0.1.5\n",
      "rasa                         3.6.21\n",
      "rasa-sdk                     3.6.2\n",
      "redis                        4.6.0\n",
      "regex                        2022.10.31\n",
      "requests                     2.32.3\n",
      "requests-oauthlib            2.0.0\n",
      "requests-toolbelt            1.0.0\n",
      "rocketchat-API               1.30.0\n",
      "rsa                          4.9\n",
      "ruamel.yaml                  0.17.21\n",
      "ruamel.yaml.clib             0.2.12\n",
      "s3transfer                   0.11.2\n",
      "safetensors                  0.4.5\n",
      "sanic                        21.12.2\n",
      "Sanic-Cors                   2.0.1\n",
      "sanic-jwt                    1.8.0\n",
      "sanic-routing                0.7.2\n",
      "scikit-learn                 1.1.3\n",
      "scipy                        1.10.1\n",
      "sentry-sdk                   1.14.0\n",
      "setuptools                   70.3.0\n",
      "simple-websocket             1.1.0\n",
      "six                          1.17.0\n",
      "sklearn-crfsuite             0.3.6\n",
      "skops                        0.9.0\n",
      "slack_sdk                    3.34.0\n",
      "SQLAlchemy                   1.4.54\n",
      "structlog                    23.3.0\n",
      "structlog-sentry             2.1.0\n",
      "tabulate                     0.9.0\n",
      "tarsafe                      0.0.4\n",
      "tensorboard                  2.12.3\n",
      "tensorboard-data-server      0.7.2\n",
      "tensorflow                   2.12.0\n",
      "tensorflow-estimator         2.12.0\n",
      "tensorflow-hub               0.13.0\n",
      "tensorflow-intel             2.12.0\n",
      "tensorflow-io-gcs-filesystem 0.31.0\n",
      "termcolor                    2.5.0\n",
      "terminaltables               3.1.10\n",
      "threadpoolctl                3.5.0\n",
      "toolz                        1.0.0\n",
      "tqdm                         4.67.1\n",
      "twilio                       8.2.2\n",
      "typing_extensions            4.12.2\n",
      "typing-utils                 0.1.0\n",
      "tzdata                       2025.1\n",
      "tzlocal                      5.2\n",
      "ujson                        5.10.0\n",
      "urllib3                      1.26.20\n",
      "wcwidth                      0.2.13\n",
      "webexteamssdk                1.6.1\n",
      "websockets                   10.4\n",
      "Werkzeug                     3.1.3\n",
      "wheel                        0.45.1\n",
      "wrapt                        1.14.1\n",
      "wsproto                      1.2.0\n",
      "yarl                         1.18.3\n",
      "zipp                         3.21.0\n"
     ]
    }
   ],
   "source": [
    "!pip list"
   ]
  },
  {
   "cell_type": "code",
   "execution_count": 1,
   "id": "b7845810-81a2-45f0-8f28-ee69193fa97b",
   "metadata": {},
   "outputs": [],
   "source": [
    "# importing the request\n",
    "import requests"
   ]
  },
  {
   "cell_type": "code",
   "execution_count": 2,
   "id": "99b53f22-45bd-4a26-8642-398f1808336c",
   "metadata": {},
   "outputs": [
    {
     "data": {
      "text/plain": [
       "\u001b[1;31mSignature:\u001b[0m \u001b[0mrequests\u001b[0m\u001b[1;33m.\u001b[0m\u001b[0mget\u001b[0m\u001b[1;33m(\u001b[0m\u001b[0murl\u001b[0m\u001b[1;33m,\u001b[0m \u001b[0mparams\u001b[0m\u001b[1;33m=\u001b[0m\u001b[1;32mNone\u001b[0m\u001b[1;33m,\u001b[0m \u001b[1;33m**\u001b[0m\u001b[0mkwargs\u001b[0m\u001b[1;33m)\u001b[0m\u001b[1;33m\u001b[0m\u001b[1;33m\u001b[0m\u001b[0m\n",
       "\u001b[1;31mSource:\u001b[0m   \n",
       "\u001b[1;32mdef\u001b[0m \u001b[0mget\u001b[0m\u001b[1;33m(\u001b[0m\u001b[0murl\u001b[0m\u001b[1;33m,\u001b[0m \u001b[0mparams\u001b[0m\u001b[1;33m=\u001b[0m\u001b[1;32mNone\u001b[0m\u001b[1;33m,\u001b[0m \u001b[1;33m**\u001b[0m\u001b[0mkwargs\u001b[0m\u001b[1;33m)\u001b[0m\u001b[1;33m:\u001b[0m\u001b[1;33m\n",
       "\u001b[0m    \u001b[1;34mr\"\"\"Sends a GET request.\n",
       "\n",
       "    :param url: URL for the new :class:`Request` object.\n",
       "    :param params: (optional) Dictionary, list of tuples or bytes to send\n",
       "        in the query string for the :class:`Request`.\n",
       "    :param \\*\\*kwargs: Optional arguments that ``request`` takes.\n",
       "    :return: :class:`Response <Response>` object\n",
       "    :rtype: requests.Response\n",
       "    \"\"\"\u001b[0m\u001b[1;33m\n",
       "\u001b[0m\u001b[1;33m\n",
       "\u001b[0m    \u001b[1;32mreturn\u001b[0m \u001b[0mrequest\u001b[0m\u001b[1;33m(\u001b[0m\u001b[1;34m\"get\"\u001b[0m\u001b[1;33m,\u001b[0m \u001b[0murl\u001b[0m\u001b[1;33m,\u001b[0m \u001b[0mparams\u001b[0m\u001b[1;33m=\u001b[0m\u001b[0mparams\u001b[0m\u001b[1;33m,\u001b[0m \u001b[1;33m**\u001b[0m\u001b[0mkwargs\u001b[0m\u001b[1;33m)\u001b[0m\u001b[1;33m\u001b[0m\u001b[1;33m\u001b[0m\u001b[0m\n",
       "\u001b[1;31mFile:\u001b[0m      c:\\users\\agnes\\anaconda3\\anacondanew\\lib\\site-packages\\requests\\api.py\n",
       "\u001b[1;31mType:\u001b[0m      function"
      ]
     },
     "metadata": {},
     "output_type": "display_data"
    }
   ],
   "source": [
    "requests.get??"
   ]
  },
  {
   "cell_type": "code",
   "execution_count": 3,
   "id": "eb4ce895-df07-4a57-bcf9-f95bd512e217",
   "metadata": {},
   "outputs": [],
   "source": [
    "#providing an API link\n",
    "cat_facts=\"https://icanhazdadjoke.com\"\n",
    "\n",
    "#providing another API link\n",
    "dog_api=\"https://wheretheiss.at\""
   ]
  },
  {
   "cell_type": "code",
   "execution_count": 4,
   "id": "192d8ec2-4f0c-48a7-bad0-cb3181e1e7fe",
   "metadata": {},
   "outputs": [],
   "source": [
    "#This is setting up a header\n",
    "my_header={\"Accept\":\"application/json\"}\n",
    "\n",
    "#API call\n",
    "results=requests.get(cat_facts,headers=my_header)"
   ]
  },
  {
   "cell_type": "code",
   "execution_count": 5,
   "id": "9db6e897-7bad-49b0-9156-cdb8be6c7ddb",
   "metadata": {},
   "outputs": [
    {
     "data": {
      "text/plain": [
       "{'id': 'GlbxXg3TClb',\n",
       " 'joke': 'A woman is on trial for beating her husband to death with his guitar collection. Judge says, ‘First offender?’ She says, ‘No, first a Gibson! Then a Fender!’',\n",
       " 'status': 200}"
      ]
     },
     "execution_count": 5,
     "metadata": {},
     "output_type": "execute_result"
    }
   ],
   "source": [
    "results.json()"
   ]
  },
  {
   "cell_type": "code",
   "execution_count": 9,
   "id": "782dbbab-424c-4b64-9a33-0f2cff99a576",
   "metadata": {},
   "outputs": [],
   "source": [
    "q=requests.get(dog_api,cat_facts)"
   ]
  },
  {
   "cell_type": "markdown",
   "id": "3408f60b-0391-44bb-bc8e-77ea42d42074",
   "metadata": {},
   "source": [
    "# Working with files"
   ]
  },
  {
   "cell_type": "code",
   "execution_count": 13,
   "id": "1447546e-8f5b-4799-9053-d1799e9e5cea",
   "metadata": {},
   "outputs": [],
   "source": [
    "# creating a file\n",
    "with open('my_file.txt','w') as fim:\n",
    "    #writing a content in my_file\n",
    "    fim.write(\"This is my fist doccument,.....i am so exicted to do this\")"
   ]
  },
  {
   "cell_type": "code",
   "execution_count": 3,
   "id": "1932538b-e5e5-47d3-9f85-5d1a4893452e",
   "metadata": {},
   "outputs": [],
   "source": [
    "# Reading a file\n",
    "with open(\"my_file.txt\",\"r\") as a:\n",
    "    f=a.read()"
   ]
  },
  {
   "cell_type": "code",
   "execution_count": 4,
   "id": "0e1ea86f-55a9-42c5-af39-a1eb5f1ff93d",
   "metadata": {},
   "outputs": [
    {
     "name": "stdout",
     "output_type": "stream",
     "text": [
      "This is my fist doccument,.....i am so exicted to do this\n"
     ]
    }
   ],
   "source": [
    "print(f)"
   ]
  },
  {
   "cell_type": "markdown",
   "id": "11036bd9-5b99-43c6-b696-e33c47c5265d",
   "metadata": {},
   "source": [
    "# Error Handling"
   ]
  },
  {
   "cell_type": "code",
   "execution_count": 5,
   "id": "f2817352-618d-488d-a3d8-e7204a6a3f1b",
   "metadata": {},
   "outputs": [],
   "source": [
    "set={1,2,3,4,5,6}"
   ]
  },
  {
   "cell_type": "code",
   "execution_count": 9,
   "id": "cda4a801-b046-4e4e-96f1-53229a742c01",
   "metadata": {},
   "outputs": [
    {
     "name": "stdout",
     "output_type": "stream",
     "text": [
      "'set' object does not support item assignment\n"
     ]
    }
   ],
   "source": [
    "try: #try to execute\n",
    "    #runing a piece off code with error\n",
    "    set[0]=1\n",
    "except Exception as e:# providing exception\n",
    "    print(e)"
   ]
  },
  {
   "cell_type": "markdown",
   "id": "5bc2f6be-75cc-4779-a9b9-70d704629616",
   "metadata": {},
   "source": [
    "# Math "
   ]
  },
  {
   "cell_type": "code",
   "execution_count": 10,
   "id": "0e60396e-c172-44e6-af10-b65730c23433",
   "metadata": {},
   "outputs": [],
   "source": [
    "num1=88531\n",
    "num2=6682"
   ]
  },
  {
   "cell_type": "code",
   "execution_count": 11,
   "id": "cf866366-8d29-474d-868e-fb47fe80baab",
   "metadata": {},
   "outputs": [
    {
     "data": {
      "text/plain": [
       "95213"
      ]
     },
     "execution_count": 11,
     "metadata": {},
     "output_type": "execute_result"
    }
   ],
   "source": [
    "#addition\n",
    "num1+num2"
   ]
  },
  {
   "cell_type": "code",
   "execution_count": 12,
   "id": "43f555fa-b121-443e-875d-ec1b836379f5",
   "metadata": {},
   "outputs": [
    {
     "data": {
      "text/plain": [
       "81849"
      ]
     },
     "execution_count": 12,
     "metadata": {},
     "output_type": "execute_result"
    }
   ],
   "source": [
    "#subtraction\n",
    "num1-num2"
   ]
  },
  {
   "cell_type": "code",
   "execution_count": 14,
   "id": "6202455d-c696-4eb5-8559-db00a4874887",
   "metadata": {},
   "outputs": [
    {
     "data": {
      "text/plain": [
       "591564142"
      ]
     },
     "execution_count": 14,
     "metadata": {},
     "output_type": "execute_result"
    }
   ],
   "source": [
    "#multiplication\n",
    "num1*num2"
   ]
  },
  {
   "cell_type": "code",
   "execution_count": 15,
   "id": "51b5efb5-ddf6-429a-8e8e-1ce9b55fc3c4",
   "metadata": {},
   "outputs": [
    {
     "data": {
      "text/plain": [
       "13.249176893145764"
      ]
     },
     "execution_count": 15,
     "metadata": {},
     "output_type": "execute_result"
    }
   ],
   "source": [
    "# division\n",
    "num1/num2"
   ]
  },
  {
   "cell_type": "code",
   "execution_count": 17,
   "id": "7c7da235-1e16-418c-b8f3-7664fa95471e",
   "metadata": {},
   "outputs": [
    {
     "data": {
      "text/plain": [
       "13"
      ]
     },
     "execution_count": 17,
     "metadata": {},
     "output_type": "execute_result"
    }
   ],
   "source": [
    "#floor\n",
    "num1//num2"
   ]
  },
  {
   "cell_type": "code",
   "execution_count": 19,
   "id": "ce2f4f47-c763-4a5e-bc12-c7bf4d51b0ae",
   "metadata": {},
   "outputs": [
    {
     "data": {
      "text/plain": [
       "1665"
      ]
     },
     "execution_count": 19,
     "metadata": {},
     "output_type": "execute_result"
    }
   ],
   "source": [
    "#Modular\n",
    "num1%num2"
   ]
  },
  {
   "cell_type": "code",
   "execution_count": 20,
   "id": "aaf931a0-cd4d-41dc-8e8f-b54c13ecfc6a",
   "metadata": {},
   "outputs": [
    {
     "data": {
      "text/plain": [
       "7837737961"
      ]
     },
     "execution_count": 20,
     "metadata": {},
     "output_type": "execute_result"
    }
   ],
   "source": [
    "#power\n",
    "num1**2"
   ]
  },
  {
   "cell_type": "code",
   "execution_count": 23,
   "id": "7d5cd4c2-9413-4c73-b6da-6779673dafce",
   "metadata": {},
   "outputs": [
    {
     "data": {
      "text/plain": [
       "134.789"
      ]
     },
     "execution_count": 23,
     "metadata": {},
     "output_type": "execute_result"
    }
   ],
   "source": [
    "# round, 3 repressents after comma three number\n",
    "round(134.789345,3)"
   ]
  },
  {
   "cell_type": "code",
   "execution_count": 25,
   "id": "4a7cc8a7-53c9-4e94-af7a-8d8170a915dd",
   "metadata": {},
   "outputs": [
    {
     "data": {
      "text/plain": [
       "7890375"
      ]
     },
     "execution_count": 25,
     "metadata": {},
     "output_type": "execute_result"
    }
   ],
   "source": [
    "# absolute value...which gives the number in positive\n",
    "abs(-7890375)"
   ]
  },
  {
   "cell_type": "code",
   "execution_count": 26,
   "id": "40d785c6-b28c-4399-adf8-c94aefe58b84",
   "metadata": {},
   "outputs": [
    {
     "data": {
      "text/plain": [
       "2"
      ]
     },
     "execution_count": 26,
     "metadata": {},
     "output_type": "execute_result"
    }
   ],
   "source": [
    "# minimum\n",
    "min(4567,9763,2,890,643,7850)"
   ]
  },
  {
   "cell_type": "code",
   "execution_count": 27,
   "id": "dcd7a620-4ab6-4094-8893-2e83f0c96802",
   "metadata": {},
   "outputs": [
    {
     "data": {
      "text/plain": [
       "6678995"
      ]
     },
     "execution_count": 27,
     "metadata": {},
     "output_type": "execute_result"
    }
   ],
   "source": [
    "#max\n",
    "max(6678995,975314,90765,247,5)"
   ]
  },
  {
   "cell_type": "code",
   "execution_count": 28,
   "id": "9d79ff7d-5bf0-4634-aee1-b98058a4aaa3",
   "metadata": {},
   "outputs": [],
   "source": [
    "import math"
   ]
  },
  {
   "cell_type": "code",
   "execution_count": 33,
   "id": "1dba4059-eff3-46d5-b780-f0f91ba26836",
   "metadata": {},
   "outputs": [
    {
     "data": {
      "text/plain": [
       "3.0"
      ]
     },
     "execution_count": 33,
     "metadata": {},
     "output_type": "execute_result"
    }
   ],
   "source": [
    "float(math.isqrt(10))"
   ]
  },
  {
   "cell_type": "code",
   "execution_count": 3,
   "id": "a4b055c9-97ad-406c-af40-34399bd22f47",
   "metadata": {},
   "outputs": [],
   "source": [
    "def marks(mark):\n",
    "    if mark>=35:\n",
    "        print(\"pass\")\n",
    "        if mark>=90:\n",
    "            print(\"A+\")\n",
    "        if mark :\n",
    "            print(\"A\")\n",
    "        if mark>=70:\n",
    "            print(\"B+\")\n",
    "        if mark>=60:\n",
    "            print(\"B\")\n",
    "        if mark>=50:\n",
    "            print(\"C+\")\n",
    "    else:\n",
    "        print(\"fail\")"
   ]
  },
  {
   "cell_type": "code",
   "execution_count": 5,
   "id": "7e9419f4-cb4f-4101-b384-03e4d6cc3344",
   "metadata": {},
   "outputs": [
    {
     "name": "stdout",
     "output_type": "stream",
     "text": [
      "pass\n",
      "A+\n",
      "A\n",
      "B+\n",
      "B\n",
      "C+\n"
     ]
    }
   ],
   "source": [
    "marks(200)"
   ]
  },
  {
   "cell_type": "code",
   "execution_count": null,
   "id": "1cb2ea75-90f6-430f-885e-e11361776fc7",
   "metadata": {},
   "outputs": [],
   "source": []
  }
 ],
 "metadata": {
  "kernelspec": {
   "display_name": "Python 3 (ipykernel)",
   "language": "python",
   "name": "python3"
  },
  "language_info": {
   "codemirror_mode": {
    "name": "ipython",
    "version": 3
   },
   "file_extension": ".py",
   "mimetype": "text/x-python",
   "name": "python",
   "nbconvert_exporter": "python",
   "pygments_lexer": "ipython3",
   "version": "3.12.7"
  }
 },
 "nbformat": 4,
 "nbformat_minor": 5
}
